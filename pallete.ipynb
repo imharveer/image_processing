{
 "cells": [
  {
   "cell_type": "code",
   "execution_count": 6,
   "metadata": {},
   "outputs": [],
   "source": [
    "import cv2\n",
    "import numpy as np\n",
    "def emptyfun(self):\n",
    "    pass\n",
    "img1=np.zeros((512,512,3),np.uint8)\n",
    "windowname='pallete screen'\n",
    "cv2.namedWindow(windowname)\n",
    "cv2.createTrackbar('B',windowname,0,255, emptyfun)\n",
    "cv2.createTrackbar('G',windowname,0,255, emptyfun)\n",
    "cv2.createTrackbar('R',windowname,0,255, emptyfun)\n",
    "while(True):\n",
    "    cv2.imshow(windowname,img1)\n",
    "    if cv2.waitKey(1)==27:\n",
    "        break\n",
    "    blue=cv2.getTrackbarPos('B',windowname)\n",
    "    green=cv2.getTrackbarPos('B',windowname)\n",
    "    red=cv2.getTrackbarPos('B',windowname)\n",
    "    img1[:]=[blue,green,red]\n",
    "cv2.destroyAllWindows()"
   ]
  },
  {
   "cell_type": "code",
   "execution_count": 9,
   "metadata": {},
   "outputs": [],
   "source": [
    "import cv2\n",
    "import numpy as np \n",
    "def nothing(x):\n",
    "    pass \n",
    "#Create a black image, a window\n",
    "img = np.zeros((300,512,3), np.uint8)\n",
    "cv2.namedWindow('image') \n",
    "# create trackbars for color change\n",
    "cv2.createTrackbar('R','image',0,255,nothing)\n",
    "cv2.createTrackbar('G','image',0,255,nothing)\n",
    "cv2.createTrackbar('B','image',0,255,nothing)\n",
    "# create switch for ON/OFF functionality\n",
    "switch = '0 : OFF \\n1 : ON'\n",
    "cv2.createTrackbar(switch, 'image',0,1,nothing)\n",
    "while(1):\n",
    "    cv2.imshow('image',img)\n",
    "    k = cv2.waitKey(1) & 0xFF\n",
    "    if k == 27:\n",
    "        break \n",
    "# get current positions of four trackbars\n",
    "    r = cv2.getTrackbarPos('R','image')\n",
    "    g = cv2.getTrackbarPos('G','image')\n",
    "    b = cv2.getTrackbarPos('B','image')\n",
    "    s = cv2.getTrackbarPos(switch,'image') \n",
    "    if s == 0:\n",
    "        img[:] = 0\n",
    "    else:\n",
    "        img[:] = [b,g,r] \n",
    "cv2.destroyAllWindows()"
   ]
  }
 ],
 "metadata": {
  "kernelspec": {
   "display_name": "Python 2",
   "language": "python",
   "name": "python2"
  },
  "language_info": {
   "codemirror_mode": {
    "name": "ipython",
    "version": 2
   },
   "file_extension": ".py",
   "mimetype": "text/x-python",
   "name": "python",
   "nbconvert_exporter": "python",
   "pygments_lexer": "ipython2",
   "version": "2.7.14"
  }
 },
 "nbformat": 4,
 "nbformat_minor": 2
}
